{
 "cells": [
  {
   "cell_type": "code",
   "execution_count": 3,
   "id": "d2e24afd",
   "metadata": {},
   "outputs": [
    {
     "name": "stdout",
     "output_type": "stream",
     "text": [
      "0               NAICS2017_LABEL SEX_LABEL ETH_GROUP_LABEL RACE_GROUP_LABEL  \\\n",
      "1         Total for all sectors     Total           Total            Total   \n",
      "2         Total for all sectors     Total           Total            Total   \n",
      "3         Total for all sectors     Total           Total            Total   \n",
      "4         Total for all sectors     Total           Total            Total   \n",
      "5         Total for all sectors     Total           Total            Total   \n",
      "...                         ...       ...             ...              ...   \n",
      "5496  Industries not classified     Total           Total            Total   \n",
      "5497  Industries not classified     Total           Total            Total   \n",
      "5498  Industries not classified     Total           Total            Total   \n",
      "5499  Industries not classified     Total           Total            Total   \n",
      "5500  Industries not classified     Total           Total            Total   \n",
      "\n",
      "0    VET_GROUP_LABEL NSFSZFI_LABEL FACTORS_P  \\\n",
      "1              Total     All firms  T2E36R08   \n",
      "2              Total     All firms  T2E36R09   \n",
      "3              Total     All firms  T2E36R10   \n",
      "4              Total     All firms  T2E36R99   \n",
      "5              Total     All firms  T3E36R01   \n",
      "...              ...           ...       ...   \n",
      "5496           Total     All firms  T5E36R07   \n",
      "5497           Total     All firms  T5E36R08   \n",
      "5498           Total     All firms  T5E36R09   \n",
      "5499           Total     All firms  T5E36R10   \n",
      "5500           Total     All firms  T5E36R99   \n",
      "\n",
      "0                                       FACTORS_P_LABEL FIRMPDEMP  \\\n",
      "1                 Cloud-Based: Lacked access to capital     44724   \n",
      "2     Cloud-Based: Technology not applicable to this...   1828050   \n",
      "3     Cloud-Based: No factors adversely affected the...   2484539   \n",
      "4                          Cloud-Based: Total Reporting   4739493   \n",
      "5     Specialized Software: Technology was too expen...    282423   \n",
      "...                                                 ...       ...   \n",
      "5496  Specialized Equipment: Concerns regarding safe...         0   \n",
      "5497    Specialized Equipment: Lacked access to capital       252   \n",
      "5498  Specialized Equipment: Technology not applicab...      5357   \n",
      "5499  Specialized Equipment: No factors adversely af...      7086   \n",
      "5500             Specialized Equipment: Total Reporting     14702   \n",
      "\n",
      "0    FIRMPDEMP_PCT     RCPPDEMP RCPPDEMP_PCT       EMP EMP_PCT      PAYANN  \\\n",
      "1              0.9    730209484          2.4   1469117     1.6   108923934   \n",
      "2             38.6   7901779199         26.5  28474985    30.3  1305851823   \n",
      "3             52.4  17955676080         60.2  54492977    58.0  3090558571   \n",
      "4            100.0  29847139873        100.0  93942693   100.0  5037549941   \n",
      "5              6.0   2147246512          7.2   6152082     6.6   340768731   \n",
      "...            ...          ...          ...       ...     ...         ...   \n",
      "5496           0.0            0          0.0         0     0.0           0   \n",
      "5497           1.7            0          0.0       400     0.5        8859   \n",
      "5498          36.4            0          0.0     14027    19.0      191344   \n",
      "5499          48.2            0          0.0     34875    47.1      290780   \n",
      "5500         100.0            0          0.0     74003   100.0      571786   \n",
      "\n",
      "0    PAYANN_PCT  \n",
      "1           2.2  \n",
      "2          25.9  \n",
      "3          61.4  \n",
      "4         100.0  \n",
      "5           6.8  \n",
      "...         ...  \n",
      "5496        0.0  \n",
      "5497        1.5  \n",
      "5498       33.5  \n",
      "5499       50.9  \n",
      "5500      100.0  \n",
      "\n",
      "[5500 rows x 16 columns]\n",
      "<class 'pandas.core.frame.DataFrame'>\n",
      "Int64Index: 5500 entries, 1 to 5500\n",
      "Data columns (total 16 columns):\n",
      " #   Column            Non-Null Count  Dtype \n",
      "---  ------            --------------  ----- \n",
      " 0   NAICS2017_LABEL   5500 non-null   object\n",
      " 1   SEX_LABEL         5500 non-null   object\n",
      " 2   ETH_GROUP_LABEL   5500 non-null   object\n",
      " 3   RACE_GROUP_LABEL  5500 non-null   object\n",
      " 4   VET_GROUP_LABEL   5500 non-null   object\n",
      " 5   NSFSZFI_LABEL     5500 non-null   object\n",
      " 6   FACTORS_P         5500 non-null   object\n",
      " 7   FACTORS_P_LABEL   5500 non-null   object\n",
      " 8   FIRMPDEMP         5500 non-null   object\n",
      " 9   FIRMPDEMP_PCT     5500 non-null   object\n",
      " 10  RCPPDEMP          5500 non-null   object\n",
      " 11  RCPPDEMP_PCT      5500 non-null   object\n",
      " 12  EMP               5500 non-null   object\n",
      " 13  EMP_PCT           5500 non-null   object\n",
      " 14  PAYANN            5500 non-null   object\n",
      " 15  PAYANN_PCT        5500 non-null   object\n",
      "dtypes: object(16)\n",
      "memory usage: 386.7+ KB\n"
     ]
    }
   ],
   "source": [
    "import pandas as pd\n",
    "import matplotlib.pyplot as plt\n",
    "import GeneralETL_PyFile as ETL\n",
    "%matplotlib inline\n",
    "\n",
    "df = pd.read_excel('TechImpactCensusData.xlsx')"
   ]
  },
  {
   "cell_type": "code",
   "execution_count": 4,
   "id": "c13a422d",
   "metadata": {},
   "outputs": [],
   "source": [
    "cloud_factor = ['T2E36R01','T2E36R02','T2E36R03','T2E36R04','T2E36R05','T2E36R06','T2E36R07','T2E36R08']\n",
    "ai_factor = ['T1E36R01','T1E36R02','T1E36R03','T1E36R04','T1E36R05','T1E36R06','T1E36R07','T1E36R08']\n",
    "sftwr_factor = ['T3E36R01','T3E36R02','T3E36R03','T3E36R04','T3E36R05','T3E36R06','T3E36R07','T3E36R08']"
   ]
  },
  {
   "cell_type": "code",
   "execution_count": 6,
   "id": "fb51b20e",
   "metadata": {},
   "outputs": [
    {
     "name": "stdout",
     "output_type": "stream",
     "text": [
      "0                       NAICS2017_LABEL SEX_LABEL ETH_GROUP_LABEL  \\\n",
      "5260  Health care and social assistance     Total           Total   \n",
      "5261  Health care and social assistance     Total           Total   \n",
      "5262  Health care and social assistance     Total           Total   \n",
      "5263  Health care and social assistance     Total           Total   \n",
      "5264  Health care and social assistance     Total           Total   \n",
      "5265  Health care and social assistance     Total           Total   \n",
      "5284  Health care and social assistance     Total           Total   \n",
      "5285  Health care and social assistance     Total           Total   \n",
      "\n",
      "0    RACE_GROUP_LABEL VET_GROUP_LABEL NSFSZFI_LABEL FACTORS_P  \\\n",
      "5260            Total           Total     All firms  T2E36R01   \n",
      "5261            Total           Total     All firms  T2E36R02   \n",
      "5262            Total           Total     All firms  T2E36R03   \n",
      "5263            Total           Total     All firms  T2E36R04   \n",
      "5264            Total           Total     All firms  T2E36R05   \n",
      "5265            Total           Total     All firms  T2E36R06   \n",
      "5284            Total           Total     All firms  T2E36R07   \n",
      "5285            Total           Total     All firms  T2E36R08   \n",
      "\n",
      "0                                       FACTORS_P_LABEL FIRMPDEMP  \\\n",
      "5260          Cloud-Based: Technology was too expensive     31330   \n",
      "5261             Cloud-Based: Technology was not mature      5958   \n",
      "5262        Cloud-Based: Lacked access to required data      2809   \n",
      "5263            Cloud-Based: Required data not reliable      2234   \n",
      "5264  Cloud-Based: Lacked access to required human c...      3339   \n",
      "5265                  Cloud-Based: Laws and regulations      8263   \n",
      "5284  Cloud-Based: Concerns regarding safety and sec...     15077   \n",
      "5285              Cloud-Based: Lacked access to capital      5592   \n",
      "\n",
      "0    FIRMPDEMP_PCT RCPPDEMP RCPPDEMP_PCT     EMP EMP_PCT    PAYANN PAYANN_PCT  \n",
      "5260           6.1        0          0.0  381964     4.1  15444698        3.5  \n",
      "5261           1.2        0          0.0   86828     0.9   4874267        1.1  \n",
      "5262           0.5        0          0.0   72408     0.8   2676180        0.6  \n",
      "5263           0.4        0          0.0   32868     0.4   1066955        0.2  \n",
      "5264           0.7        0          0.0   68666     0.7   2550987        0.6  \n",
      "5265           1.6        0          0.0  107345     1.2   5119345        1.2  \n",
      "5284           2.9        0          0.0  438852     4.7  19058713        4.3  \n",
      "5285           1.1        0          0.0  118392     1.3   4525662        1.0  \n"
     ]
    }
   ],
   "source": [
    "# health dataframes filtered by technologies\n",
    "cbhealth = df[(df.NAICS2017_LABEL == 'Health care and social assistance')]\n",
    "cbhealth = cbhealth[cbhealth.FACTORS_P.isin(cloud_factor)]\n",
    "\n",
    "aihealth = df[(df.NAICS2017_LABEL == 'Health care and social assistance')]\n",
    "aihealth = aihealth[aihealth.FACTORS_P.isin(ai_factor)]\n",
    "\n",
    "swhealth = df[(df.NAICS2017_LABEL == 'Health care and social assistance')]\n",
    "swhealth = swhealth[swhealth.FACTORS_P.isin(sftwr_factor)]\n",
    "\n",
    "cbhealth.shape\n",
    "print(cbhealth)"
   ]
  },
  {
   "cell_type": "code",
   "execution_count": 7,
   "id": "4492868b",
   "metadata": {},
   "outputs": [],
   "source": [
    "# health cloud-based \n",
    "labels = list(cbhealth['FACTORS_P_LABEL'])\n",
    "replace_labels = ['Too expensive','Tech not mature','Improper Data','Unreliable Data','Insufficient Talent','Laws and Regulations','Security Concerns','Insufficient Capital']\n",
    "\n",
    "cbhealth['FACTORS_P_LABEL'] = cbhealth['FACTORS_P_LABEL'].replace(labels,replace_labels)\n",
    "cbhealth = cbhealth[['FACTORS_P_LABEL','FIRMPDEMP']]\n",
    "cbhealth.set_index(['FACTORS_P_LABEL'],inplace=True)"
   ]
  },
  {
   "cell_type": "code",
   "execution_count": 8,
   "id": "2c7a9f54",
   "metadata": {},
   "outputs": [],
   "source": [
    "# health ai\n",
    "labels = list(aihealth['FACTORS_P_LABEL'])\n",
    "\n",
    "aihealth['FACTORS_P_LABEL'] = aihealth['FACTORS_P_LABEL'].replace(labels,replace_labels)\n",
    "aihealth = aihealth[['FACTORS_P_LABEL','FIRMPDEMP']]\n",
    "aihealth.set_index(['FACTORS_P_LABEL'],inplace=True)"
   ]
  },
  {
   "cell_type": "code",
   "execution_count": 9,
   "id": "24890335",
   "metadata": {},
   "outputs": [],
   "source": [
    "# health software\n",
    "labels = list(swhealth['FACTORS_P_LABEL'])\n",
    "\n",
    "swhealth['FACTORS_P_LABEL'] = swhealth['FACTORS_P_LABEL'].replace(labels,replace_labels)\n",
    "swhealth = swhealth[['FACTORS_P_LABEL','FIRMPDEMP']]\n",
    "swhealth.set_index(['FACTORS_P_LABEL'],inplace=True)"
   ]
  },
  {
   "cell_type": "code",
   "execution_count": 7,
   "id": "20f27603",
   "metadata": {},
   "outputs": [],
   "source": [
    "health = cbhealth\n",
    "print(health)\n",
    "health.columns = ['Cloud-Based Technology']\n",
    "health['Specialized Software'] = swhealth['FIRMPDEMP']\n",
    "health['AI Technology'] = aihealth['FIRMPDEMP']\n",
    "\n",
    "print(health)"
   ]
  },
  {
   "cell_type": "code",
   "execution_count": 8,
   "id": "e4821f88",
   "metadata": {},
   "outputs": [],
   "source": [
    "## found that too expensive >> than other limiting factors\n",
    "#graph_labels = ['Too\\nexpensive','Tech not\\nmature','Improper\\nData','Unreliable\\nData','Insufficient\\nTalent','Laws and\\nRegulations','Security\\nConcerns','Insufficient\\nCapital']\n",
    "# color_list = ['cornflowerblue','lightgreen','silver']\n",
    "# health.plot(kind='bar',color=color_list,figsize=(12,5),title='Health Technology Broken Down by Limiting Factor',xlabel='Limiting Factor',ylabel='Count of Health Firms')"
   ]
  },
  {
   "cell_type": "code",
   "execution_count": 9,
   "id": "64ba29ca",
   "metadata": {},
   "outputs": [],
   "source": [
    "# dropped 'Too expensive' index to see distribution of other factors\n",
    "h1 = health.drop(['Too expensive'],axis=0)\n",
    "h1_sorted = h1.sort_values(by='Cloud-Based Technology',ascending=False)"
   ]
  },
  {
   "cell_type": "code",
   "execution_count": 27,
   "id": "a2d84bc1",
   "metadata": {},
   "outputs": [
    {
     "data": {
      "text/plain": [
       "<AxesSubplot:title={'center':'Health Technologies Broken Down by Limiting Factor'}, xlabel='Limiting Factor', ylabel='Count of Health Firms'>"
      ]
     },
     "execution_count": 27,
     "metadata": {},
     "output_type": "execute_result"
    },
    {
     "data": {
      "image/png": "[encoded data removed]",
      "text/plain": [
       "<Figure size 1152x360 with 1 Axes>"
      ]
     },
     "metadata": {
      "needs_background": "light"
     },
     "output_type": "display_data"
    }
   ],
   "source": [
    "# plotting limiting factors in health sector\n",
    "color_list = ['cornflowerblue','lightskyblue','lavender']\n",
    "h1_sorted.plot(kind='bar',color=color_list,figsize=(16,5),rot=0,title='Health Technologies Broken Down by Limiting Factor',xlabel='Limiting Factor',ylabel='Count of Health Firms')"
   ]
  },
  {
   "cell_type": "code",
   "execution_count": 11,
   "id": "f61870fd",
   "metadata": {},
   "outputs": [
    {
     "data": {
      "text/html": [
       "<div>\n",
       "<style scoped>\n",
       "    .dataframe tbody tr th:only-of-type {\n",
       "        vertical-align: middle;\n",
       "    }\n",
       "\n",
       "    .dataframe tbody tr th {\n",
       "        vertical-align: top;\n",
       "    }\n",
       "\n",
       "    .dataframe thead th {\n",
       "        text-align: right;\n",
       "    }\n",
       "</style>\n",
       "<table border=\"1\" class=\"dataframe\">\n",
       "  <thead>\n",
       "    <tr style=\"text-align: right;\">\n",
       "      <th></th>\n",
       "      <th>Cloud-Based Technology</th>\n",
       "      <th>Specialized Software</th>\n",
       "      <th>AI Technology</th>\n",
       "    </tr>\n",
       "    <tr>\n",
       "      <th>Group</th>\n",
       "      <th></th>\n",
       "      <th></th>\n",
       "      <th></th>\n",
       "    </tr>\n",
       "  </thead>\n",
       "  <tbody>\n",
       "    <tr>\n",
       "      <th>Other</th>\n",
       "      <td>43272</td>\n",
       "      <td>32735</td>\n",
       "      <td>27896</td>\n",
       "    </tr>\n",
       "    <tr>\n",
       "      <th>Too expensive</th>\n",
       "      <td>31330</td>\n",
       "      <td>33254</td>\n",
       "      <td>28028</td>\n",
       "    </tr>\n",
       "  </tbody>\n",
       "</table>\n",
       "</div>"
      ],
      "text/plain": [
       "               Cloud-Based Technology  Specialized Software  AI Technology\n",
       "Group                                                                     \n",
       "Other                           43272                 32735          27896\n",
       "Too expensive                   31330                 33254          28028"
      ]
     },
     "execution_count": 11,
     "metadata": {},
     "output_type": "execute_result"
    }
   ],
   "source": [
    "# comparing 'Too expensive' to 'Other' [grouped factors]\n",
    "group = ['Too expensive','Other','Other','Other','Other','Other','Other','Other']\n",
    "health['Group'] = group\n",
    "h2 = health.groupby('Group').sum()\n",
    "h2"
   ]
  },
  {
   "cell_type": "code",
   "execution_count": 12,
   "id": "dd66e7cf",
   "metadata": {},
   "outputs": [
    {
     "data": {
      "text/plain": [
       "<matplotlib.legend.Legend at 0x1e50cf119d0>"
      ]
     },
     "execution_count": 12,
     "metadata": {},
     "output_type": "execute_result"
    },
    {
     "data": {
      "image/png": "[encoded data removed]",
      "text/plain": [
       "<Figure size 432x288 with 1 Axes>"
      ]
     },
     "metadata": {},
     "output_type": "display_data"
    }
   ],
   "source": [
    "# cloud-based too expensive pie chart\n",
    "pie_labels = ['Other','Too Expensive']\n",
    "pie_colors = ['cornflowerblue','lightskyblue']\n",
    "plt.pie(h2['Cloud-Based Technology'],autopct='%1.1f%%',colors=pie_colors)\n",
    "plt.title('Cloud-Based Technology')\n",
    "plt.legend(pie_labels,bbox_to_anchor=(.76, .02))"
   ]
  },
  {
   "cell_type": "code",
   "execution_count": 13,
   "id": "5b6643d3",
   "metadata": {
    "scrolled": true
   },
   "outputs": [
    {
     "data": {
      "text/plain": [
       "<matplotlib.legend.Legend at 0x1e50cf6b550>"
      ]
     },
     "execution_count": 13,
     "metadata": {},
     "output_type": "execute_result"
    },
    {
     "data": {
      "image/png": "[encoded data removed]",
      "text/plain": [
       "<Figure size 432x288 with 1 Axes>"
      ]
     },
     "metadata": {},
     "output_type": "display_data"
    }
   ],
   "source": [
    "# software too expensive pie chart\n",
    "pie_labels = ['Other','Too Expensive']\n",
    "pie_colors = ['cornflowerblue','lightskyblue']\n",
    "plt.pie(h2['Specialized Software'],autopct='%1.1f%%',colors=pie_colors)\n",
    "plt.title('Specialized Software')\n",
    "plt.legend(pie_labels,bbox_to_anchor=(.76, .02))"
   ]
  },
  {
   "cell_type": "code",
   "execution_count": 14,
   "id": "f0dd537d",
   "metadata": {
    "scrolled": true
   },
   "outputs": [
    {
     "data": {
      "text/plain": [
       "<matplotlib.legend.Legend at 0x1e50cfc41c0>"
      ]
     },
     "execution_count": 14,
     "metadata": {},
     "output_type": "execute_result"
    },
    {
     "data": {
      "image/png": "[encoded data removed]",
      "text/plain": [
       "<Figure size 432x288 with 1 Axes>"
      ]
     },
     "metadata": {},
     "output_type": "display_data"
    }
   ],
   "source": [
    "# ai too expensive pie chart\n",
    "pie_labels = ['Other','Too Expensive']\n",
    "pie_colors = ['cornflowerblue','lightskyblue']\n",
    "plt.pie(h2['AI Technology'],autopct='%1.1f%%',colors=pie_colors)\n",
    "plt.title('AI Technology')\n",
    "plt.legend(pie_labels,bbox_to_anchor=(.76, .02))"
   ]
  },
  {
   "cell_type": "code",
   "execution_count": 15,
   "id": "7cb85c9e",
   "metadata": {},
   "outputs": [],
   "source": [
    "# finance dataframes filtered by technologies\n",
    "cbfin = df[(df.NAICS2017_LABEL == 'Finance and insurance')]\n",
    "cbfin = cbfin[cbfin.FACTORS_P.isin(cloud_factor)]\n",
    "\n",
    "aifin = df[(df.NAICS2017_LABEL == 'Finance and insurance')]\n",
    "aifin = aifin[aifin.FACTORS_P.isin(ai_factor)]\n",
    "\n",
    "swfin = df[(df.NAICS2017_LABEL == 'Finance and insurance')]\n",
    "swfin = swfin[swfin.FACTORS_P.isin(sftwr_factor)]"
   ]
  },
  {
   "cell_type": "code",
   "execution_count": 17,
   "id": "ab2ef463",
   "metadata": {},
   "outputs": [],
   "source": [
    "labels = list(cbfin['FACTORS_P_LABEL'])\n",
    "replace_labels = ['Too expensive','Tech not mature','Improper Data','Unreliable Data','Insufficient Talent','Laws and Regulations','Security Concerns','Insufficient Capital']\n",
    "\n",
    "cbfin['FACTORS_P_LABEL'] = cbfin['FACTORS_P_LABEL'].replace(labels,replace_labels)\n",
    "cbfin = cbfin[['FACTORS_P_LABEL','FIRMPDEMP']]\n",
    "cbfin.set_index(['FACTORS_P_LABEL'],inplace=True)\n",
    "\n",
    "labels = list(aifin['FACTORS_P_LABEL'])\n",
    "\n",
    "aifin['FACTORS_P_LABEL'] = aifin['FACTORS_P_LABEL'].replace(labels,replace_labels)\n",
    "aifin = aifin[['FACTORS_P_LABEL','FIRMPDEMP']]\n",
    "aifin.set_index(['FACTORS_P_LABEL'],inplace=True)\n",
    "\n",
    "labels = list(swfin['FACTORS_P_LABEL'])\n",
    "\n",
    "swfin['FACTORS_P_LABEL'] = swfin['FACTORS_P_LABEL'].replace(labels,replace_labels)\n",
    "swfin = swfin[['FACTORS_P_LABEL','FIRMPDEMP']]\n",
    "swfin.set_index(['FACTORS_P_LABEL'],inplace=True)"
   ]
  },
  {
   "cell_type": "code",
   "execution_count": 18,
   "id": "8a0cbf3b",
   "metadata": {},
   "outputs": [],
   "source": [
    "fin = cbfin\n",
    "fin.columns = ['Cloud-Based Technology']\n",
    "fin['Specialized Software'] = swfin['FIRMPDEMP']\n",
    "fin['AI Technology'] = aifin['FIRMPDEMP']"
   ]
  },
  {
   "cell_type": "code",
   "execution_count": 21,
   "id": "8799024c",
   "metadata": {},
   "outputs": [],
   "source": [
    "f1 = fin.drop(['Too expensive'],axis=0)\n",
    "f1_sorted = f1.sort_values(by='Cloud-Based Technology',ascending=False)"
   ]
  },
  {
   "cell_type": "code",
   "execution_count": 30,
   "id": "bbd1d083",
   "metadata": {},
   "outputs": [
    {
     "data": {
      "text/plain": [
       "<AxesSubplot:title={'center':'Finance Technologies Broken Down by Limiting Factor'}, xlabel='Limiting Factor', ylabel='Count of Health Firms'>"
      ]
     },
     "execution_count": 30,
     "metadata": {},
     "output_type": "execute_result"
    },
    {
     "data": {
      "image/png": "[encoded data removed]",
      "text/plain": [
       "<Figure size 1152x360 with 1 Axes>"
      ]
     },
     "metadata": {
      "needs_background": "light"
     },
     "output_type": "display_data"
    }
   ],
   "source": [
    "color_list = ['mediumseagreen','lightgreen','beige']\n",
    "f1_sorted.plot(kind='bar',color=color_list,figsize=(16,5),rot=0,title='Finance Technologies Broken Down by Limiting Factor',xlabel='Limiting Factor',ylabel='Count of Finance Firms')"
   ]
  },
  {
   "cell_type": "code",
   "execution_count": 31,
   "id": "522de4f8",
   "metadata": {},
   "outputs": [
    {
     "data": {
      "text/html": [
       "<div>\n",
       "<style scoped>\n",
       "    .dataframe tbody tr th:only-of-type {\n",
       "        vertical-align: middle;\n",
       "    }\n",
       "\n",
       "    .dataframe tbody tr th {\n",
       "        vertical-align: top;\n",
       "    }\n",
       "\n",
       "    .dataframe thead th {\n",
       "        text-align: right;\n",
       "    }\n",
       "</style>\n",
       "<table border=\"1\" class=\"dataframe\">\n",
       "  <thead>\n",
       "    <tr style=\"text-align: right;\">\n",
       "      <th></th>\n",
       "      <th>Cloud-Based Technology</th>\n",
       "      <th>Specialized Software</th>\n",
       "      <th>AI Technology</th>\n",
       "    </tr>\n",
       "    <tr>\n",
       "      <th>Group</th>\n",
       "      <th></th>\n",
       "      <th></th>\n",
       "      <th></th>\n",
       "    </tr>\n",
       "  </thead>\n",
       "  <tbody>\n",
       "    <tr>\n",
       "      <th>Other</th>\n",
       "      <td>43272</td>\n",
       "      <td>32735</td>\n",
       "      <td>27896</td>\n",
       "    </tr>\n",
       "    <tr>\n",
       "      <th>Too expensive</th>\n",
       "      <td>31330</td>\n",
       "      <td>33254</td>\n",
       "      <td>28028</td>\n",
       "    </tr>\n",
       "  </tbody>\n",
       "</table>\n",
       "</div>"
      ],
      "text/plain": [
       "               Cloud-Based Technology  Specialized Software  AI Technology\n",
       "Group                                                                     \n",
       "Other                           43272                 32735          27896\n",
       "Too expensive                   31330                 33254          28028"
      ]
     },
     "execution_count": 31,
     "metadata": {},
     "output_type": "execute_result"
    }
   ],
   "source": [
    "# comparing 'Too expensive' to 'Other' [grouped factors]\n",
    "group = ['Too expensive','Other','Other','Other','Other','Other','Other','Other']\n",
    "fin['Group'] = group\n",
    "f2 = fin.groupby('Group').sum()\n",
    "h2"
   ]
  },
  {
   "cell_type": "code",
   "execution_count": 33,
   "id": "c3732a4f",
   "metadata": {},
   "outputs": [
    {
     "data": {
      "text/plain": [
       "<matplotlib.legend.Legend at 0x1e50e369fd0>"
      ]
     },
     "execution_count": 33,
     "metadata": {},
     "output_type": "execute_result"
    },
    {
     "data": {
      "image/png": "[encoded data removed]",
      "text/plain": [
       "<Figure size 432x288 with 1 Axes>"
      ]
     },
     "metadata": {},
     "output_type": "display_data"
    }
   ],
   "source": [
    "# cloud-based too expensive pie chart\n",
    "pie_labels = ['Other','Too Expensive']\n",
    "pie_colors = ['mediumseagreen','lightgreen']\n",
    "plt.pie(h2['Cloud-Based Technology'],autopct='%1.1f%%',colors=pie_colors)\n",
    "plt.title('Cloud-Based Technology')\n",
    "plt.legend(pie_labels,bbox_to_anchor=(.76, .02))"
   ]
  },
  {
   "cell_type": "code",
   "execution_count": 32,
   "id": "659dec14",
   "metadata": {},
   "outputs": [
    {
     "data": {
      "text/plain": [
       "<matplotlib.legend.Legend at 0x1e50e382910>"
      ]
     },
     "execution_count": 32,
     "metadata": {},
     "output_type": "execute_result"
    },
    {
     "data": {
      "image/png": "[encoded data removed]",
      "text/plain": [
       "<Figure size 432x288 with 1 Axes>"
      ]
     },
     "metadata": {},
     "output_type": "display_data"
    }
   ],
   "source": [
    "# software too expensive pie chart\n",
    "pie_labels = ['Other','Too Expensive']\n",
    "pie_colors = ['mediumseagreen','lightgreen']\n",
    "plt.pie(f2['Specialized Software'],autopct='%1.1f%%',colors=pie_colors)\n",
    "plt.title('Specialized Software')\n",
    "plt.legend(pie_labels,bbox_to_anchor=(.76, .02))"
   ]
  },
  {
   "cell_type": "code",
   "execution_count": 34,
   "id": "013674e8",
   "metadata": {},
   "outputs": [
    {
     "data": {
      "text/plain": [
       "<matplotlib.legend.Legend at 0x1e50e457fa0>"
      ]
     },
     "execution_count": 34,
     "metadata": {},
     "output_type": "execute_result"
    },
    {
     "data": {
      "image/png": "[encoded data removed]",
      "text/plain": [
       "<Figure size 432x288 with 1 Axes>"
      ]
     },
     "metadata": {},
     "output_type": "display_data"
    }
   ],
   "source": [
    "# ai too expensive pie chart\n",
    "pie_labels = ['Other','Too Expensive']\n",
    "pie_colors = ['mediumseagreen','lightgreen']\n",
    "plt.pie(h2['AI Technology'],autopct='%1.1f%%',colors=pie_colors)\n",
    "plt.title('AI Technology')\n",
    "plt.legend(pie_labels,bbox_to_anchor=(.76, .02))"
   ]
  },
  {
   "cell_type": "code",
   "execution_count": null,
   "id": "2dcf2d68",
   "metadata": {},
   "outputs": [],
   "source": []
  }
 ],
 "metadata": {
  "kernelspec": {
   "display_name": "Python 3 (ipykernel)",
   "language": "python",
   "name": "python3"
  },
  "language_info": {
   "codemirror_mode": {
    "name": "ipython",
    "version": 3
   },
   "file_extension": ".py",
   "mimetype": "text/x-python",
   "name": "python",
   "nbconvert_exporter": "python",
   "pygments_lexer": "ipython3",
   "version": "3.7.4"
  }
 },
 "nbformat": 4,
 "nbformat_minor": 5
}
