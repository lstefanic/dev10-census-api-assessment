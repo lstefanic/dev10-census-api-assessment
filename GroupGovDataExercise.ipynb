{
 "cells": [
  {
   "cell_type": "code",
   "execution_count": null,
   "metadata": {},
   "outputs": [],
   "source": [
    "import requests\n",
    "import pandas as pd\n",
    "import matplotlib.pyplot as plt\n",
    "import config\n",
    "%matplotlib inline\n",
    "\n",
    "api_key = config.api_key\n",
    "\n",
    "fullurl = 'https://api.census.gov/data/2018/abstcb?get=GEO_ID,NAME,NAICS2017,NAICS2017_LABEL,SEX,SEX_LABEL,ETH_GROUP,ETH_GROUP_LABEL,RACE_GROUP,RACE_GROUP_LABEL,VET_GROUP,VET_GROUP_LABEL,NSFSZFI,NSFSZFI_LABEL,FACTORS_P,FACTORS_P_LABEL,YEAR,FIRMPDEMP,FIRMPDEMP_F,FIRMPDEMP_PCT,FIRMPDEMP_PCT_F,RCPPDEMP,RCPPDEMP_F,RCPPDEMP_PCT,RCPPDEMP_PCT_F,EMP,EMP_F,EMP_PCT,EMP_PCT_F,PAYANN,PAYANN_F,PAYANN_PCT,PAYANN_PCT_F,FIRMPDEMP_S,FIRMPDEMP_S_F,FIRMPDEMP_PCT_S,FIRMPDEMP_PCT_S_F,RCPPDEMP_S,RCPPDEMP_S_F,RCPPDEMP_PCT_S,RCPPDEMP_PCT_S_F,EMP_S,EMP_S_F,EMP_PCT_S,EMP_PCT_S_F,PAYANN_S,PAYANN_S_F,PAYANN_PCT_S,PAYANN_PCT_S_F&for=us:*&key='\n",
    "#data = requests.get(fullurl+api_key)\n",
    "#print(data)\n",
    "#print(type(data))\n",
    "\n",
    "tech_df = pd.DataFrame(data.json())\n"
   ]
  },
  {
   "cell_type": "code",
   "execution_count": null,
   "metadata": {},
   "outputs": [],
   "source": [
    "# promote headers\n",
    "header_row = 0\n",
    "tech_df.columns = tech_df.iloc[header_row]\n",
    "tech_df.drop(labels=0,axis=0,inplace=True)\n",
    "\n",
    "tech_df\n"
   ]
  },
  {
   "cell_type": "code",
   "execution_count": null,
   "metadata": {},
   "outputs": [],
   "source": [
    "# do some cleaning\n",
    "tech_df.drop(['GEO_ID',\"NAME\",\"YEAR\",\"NAICS2017\",\"SEX\",\"ETH_GROUP\"],inplace=True,axis=1)\n",
    "tech_df.drop([\"RACE_GROUP\",\"VET_GROUP\",\"NSFSZFI\",\"FIRMPDEMP_F\",\"FIRMPDEMP_PCT_F\"],inplace=True,axis=1)\n",
    "tech_df.drop([\"RCPPDEMP_F\",\"RCPPDEMP_PCT_F\",\"EMP_F\",\"EMP_PCT_F\",\"PAYANN_F\"],inplace=True,axis=1)\n",
    "tech_df.drop([\"PAYANN_PCT_F\",\"FIRMPDEMP_S\",\"FIRMPDEMP_S_F\",\"FIRMPDEMP_PCT_S\"],inplace=True,axis=1)\n",
    "tech_df = tech_df.drop(tech_df.columns[16:],axis = 1)\n"
   ]
  },
  {
   "cell_type": "code",
   "execution_count": 51,
   "metadata": {},
   "outputs": [],
   "source": [
    "tech_df.to_excel(\"TechImpactCensusData.xlsx\")"
   ]
  }
 ],
 "metadata": {
  "interpreter": {
   "hash": "23307798908c8a9e946608b3e939b3bcebc8e8621f7a89d72990d9b805e549ed"
  },
  "kernelspec": {
   "display_name": "Python 3.7.4 32-bit",
   "language": "python",
   "name": "python3"
  },
  "language_info": {
   "codemirror_mode": {
    "name": "ipython",
    "version": 3
   },
   "file_extension": ".py",
   "mimetype": "text/x-python",
   "name": "python",
   "nbconvert_exporter": "python",
   "pygments_lexer": "ipython3",
   "version": "3.9.7"
  },
  "orig_nbformat": 4
 },
 "nbformat": 4,
 "nbformat_minor": 2
}
