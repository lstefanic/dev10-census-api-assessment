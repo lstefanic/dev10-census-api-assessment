{
 "cells": [
  {
   "cell_type": "code",
   "execution_count": 1,
   "metadata": {},
   "outputs": [],
   "source": [
    "import pandas as pd\n",
    "import dash\n",
    "from dash import dcc\n",
    "from dash import html\n",
    "from dash.dependencies import Input, Output\n",
    "import plotly.express as px\n",
    "\n",
    "def filter_data(df,tech,sector):\n",
    "    \n",
    "    df = df[df[\"NAICS2017_LABEL\"] == sector]\n",
    "\n",
    "    df = df[df[\"FACTORS_P_LABEL\"].str.contains(tech)]\n",
    "\n",
    "    df = df[df[\"FIRMPDEMP_PCT\"] > 0]\n",
    "\n",
    "    return df\n",
    "\n",
    "df = pd.read_excel(\"TechImpactCensusData.xlsx\")\n",
    "\n",
    "df.drop(columns=[\"Unnamed: 0\",\"SEX_LABEL\",\"ETH_GROUP_LABEL\",\"RACE_GROUP_LABEL\",\"VET_GROUP_LABEL\",\"NSFSZFI_LABEL\"],inplace= True)\n",
    "\n",
    "df = df[df[\"NAICS2017_LABEL\"] != \"Industries not classified\"]\n",
    "df.drop(df.index[df[\"FACTORS_P\"].str.contains(\"99\")],inplace = True)\n",
    "df.drop(df.index[df[\"FACTORS_P\"].str.contains(\"10\")],inplace = True)\n",
    "df.drop(df.index[df[\"FACTORS_P\"].str.contains(\"09\")],inplace = True)\n",
    "\n",
    "sectors_list = []\n",
    "\n",
    "for x in df[\"NAICS2017_LABEL\"].values:\n",
    "\n",
    "    sectors_list.append(x)\n",
    "\n",
    "sectors_list = list(set(sectors_list))"
   ]
  },
  {
   "cell_type": "code",
   "execution_count": null,
   "metadata": {},
   "outputs": [],
   "source": [
    "app = dash.Dash(__name__)\n",
    "\n",
    "app.layout = html.Div([\n",
    "    html.P(\"Sectors:\"),\n",
    "    dcc.Dropdown(\n",
    "        id='sectors',\n",
    "        options=[{'value': x, 'label': x} \n",
    "                 for x in sectors_list],\n",
    "        clearable=False\n",
    "    ),\n",
    "    html.P(\"Tech:\"),\n",
    "    dcc.Dropdown(\n",
    "        id = \"tech\",\n",
    "        options=[{\"value\" : x, \"label\": x} for x in [\"Artificial Intelligence\",\"Cloud-Based\",\"Specialized Software\",\"Robotics\",\"Specialized Equipment\"]],\n",
    "        clearable=False\n",
    "    ),\n",
    "    dcc.Graph(id=\"chart\"),\n",
    "])\n",
    "\n",
    "@app.callback(\n",
    "    Output(\"chart\", \"figure\"),\n",
    "    [Input(\"sectors\", \"value\"),\n",
    "     Input(\"tech\", \"value\")])\n",
    "     \n",
    "def generate_chart(sector,Tech):\n",
    "    \n",
    "    return px.pie(filter_data(df,Tech,sector),values = \"FIRMPDEMP_PCT\",names = \"FACTORS_P_LABEL\")\n",
    "    \n",
    "\n",
    "app.run_server()"
   ]
  }
 ],
 "metadata": {
  "interpreter": {
   "hash": "aab2652dd422b8952e87837d88345d2dc429e222c6ab5d96b6e49515aa907270"
  },
  "kernelspec": {
   "display_name": "Python 3.9.7 64-bit ('base': conda)",
   "language": "python",
   "name": "python3"
  },
  "language_info": {
   "codemirror_mode": {
    "name": "ipython",
    "version": 3
   },
   "file_extension": ".py",
   "mimetype": "text/x-python",
   "name": "python",
   "nbconvert_exporter": "python",
   "pygments_lexer": "ipython3",
   "version": "3.9.7"
  },
  "orig_nbformat": 4
 },
 "nbformat": 4,
 "nbformat_minor": 2
}
