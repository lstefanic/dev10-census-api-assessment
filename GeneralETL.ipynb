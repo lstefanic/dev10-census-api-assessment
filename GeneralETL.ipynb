{
 "cells": [
  {
   "cell_type": "code",
   "execution_count": 21,
   "metadata": {},
   "outputs": [],
   "source": [
    "import requests\n",
    "import pandas as pd\n",
    "import matplotlib.pyplot as plt\n",
    "import config\n",
    "%matplotlib inline\n",
    "\n",
    "api_key = config.api_key\n",
    "\n",
    "fullurl = 'https://api.census.gov/data/2018/abstcb?get=GEO_ID,NAME,NAICS2017,NAICS2017_LABEL,SEX,SEX_LABEL,ETH_GROUP,ETH_GROUP_LABEL,RACE_GROUP,RACE_GROUP_LABEL,VET_GROUP,VET_GROUP_LABEL,NSFSZFI,NSFSZFI_LABEL,FACTORS_P,FACTORS_P_LABEL,YEAR,FIRMPDEMP,FIRMPDEMP_F,FIRMPDEMP_PCT,FIRMPDEMP_PCT_F,RCPPDEMP,RCPPDEMP_F,RCPPDEMP_PCT,RCPPDEMP_PCT_F,EMP,EMP_F,EMP_PCT,EMP_PCT_F,PAYANN,PAYANN_F,PAYANN_PCT,PAYANN_PCT_F,FIRMPDEMP_S,FIRMPDEMP_S_F,FIRMPDEMP_PCT_S,FIRMPDEMP_PCT_S_F,RCPPDEMP_S,RCPPDEMP_S_F,RCPPDEMP_PCT_S,RCPPDEMP_PCT_S_F,EMP_S,EMP_S_F,EMP_PCT_S,EMP_PCT_S_F,PAYANN_S,PAYANN_S_F,PAYANN_PCT_S,PAYANN_PCT_S_F&for=us:*&key='\n",
    "#data = requests.get(fullurl+api_key)\n",
    "#print(data)\n",
    "#print(type(data))\n",
    "\n",
    "tech_df = pd.DataFrame(data.json())\n"
   ]
  },
  {
   "cell_type": "code",
   "execution_count": 22,
   "metadata": {},
   "outputs": [
    {
     "name": "stdout",
     "output_type": "stream",
     "text": [
      "1       1\n",
      "2       1\n",
      "3       1\n",
      "4       1\n",
      "5       1\n",
      "       ..\n",
      "5496    1\n",
      "5497    1\n",
      "5498    1\n",
      "5499    1\n",
      "5500    1\n",
      "Name: us, Length: 5500, dtype: object\n",
      "['1']\n"
     ]
    }
   ],
   "source": [
    "# promote headers\n",
    "header_row = 0\n",
    "tech_df.columns = tech_df.iloc[header_row]\n",
    "tech_df.drop(labels=0,axis=0,inplace=True)\n"
   ]
  },
  {
   "cell_type": "code",
   "execution_count": 23,
   "metadata": {},
   "outputs": [
    {
     "name": "stdout",
     "output_type": "stream",
     "text": [
      "0               NAICS2017_LABEL SEX_LABEL ETH_GROUP_LABEL RACE_GROUP_LABEL  \\\n",
      "1         Total for all sectors     Total           Total            Total   \n",
      "2         Total for all sectors     Total           Total            Total   \n",
      "3         Total for all sectors     Total           Total            Total   \n",
      "4         Total for all sectors     Total           Total            Total   \n",
      "5         Total for all sectors     Total           Total            Total   \n",
      "...                         ...       ...             ...              ...   \n",
      "5496  Industries not classified     Total           Total            Total   \n",
      "5497  Industries not classified     Total           Total            Total   \n",
      "5498  Industries not classified     Total           Total            Total   \n",
      "5499  Industries not classified     Total           Total            Total   \n",
      "5500  Industries not classified     Total           Total            Total   \n",
      "\n",
      "0    VET_GROUP_LABEL NSFSZFI_LABEL FACTORS_P  \\\n",
      "1              Total     All firms  T2E36R08   \n",
      "2              Total     All firms  T2E36R09   \n",
      "3              Total     All firms  T2E36R10   \n",
      "4              Total     All firms  T2E36R99   \n",
      "5              Total     All firms  T3E36R01   \n",
      "...              ...           ...       ...   \n",
      "5496           Total     All firms  T5E36R07   \n",
      "5497           Total     All firms  T5E36R08   \n",
      "5498           Total     All firms  T5E36R09   \n",
      "5499           Total     All firms  T5E36R10   \n",
      "5500           Total     All firms  T5E36R99   \n",
      "\n",
      "0                                       FACTORS_P_LABEL FIRMPDEMP  \\\n",
      "1                 Cloud-Based: Lacked access to capital     44724   \n",
      "2     Cloud-Based: Technology not applicable to this...   1828050   \n",
      "3     Cloud-Based: No factors adversely affected the...   2484539   \n",
      "4                          Cloud-Based: Total Reporting   4739493   \n",
      "5     Specialized Software: Technology was too expen...    282423   \n",
      "...                                                 ...       ...   \n",
      "5496  Specialized Equipment: Concerns regarding safe...         0   \n",
      "5497    Specialized Equipment: Lacked access to capital       252   \n",
      "5498  Specialized Equipment: Technology not applicab...      5357   \n",
      "5499  Specialized Equipment: No factors adversely af...      7086   \n",
      "5500             Specialized Equipment: Total Reporting     14702   \n",
      "\n",
      "0    FIRMPDEMP_PCT     RCPPDEMP RCPPDEMP_PCT       EMP EMP_PCT      PAYANN  \\\n",
      "1              0.9    730209484          2.4   1469117     1.6   108923934   \n",
      "2             38.6   7901779199         26.5  28474985    30.3  1305851823   \n",
      "3             52.4  17955676080         60.2  54492977    58.0  3090558571   \n",
      "4            100.0  29847139873        100.0  93942693   100.0  5037549941   \n",
      "5              6.0   2147246512          7.2   6152082     6.6   340768731   \n",
      "...            ...          ...          ...       ...     ...         ...   \n",
      "5496           0.0            0          0.0         0     0.0           0   \n",
      "5497           1.7            0          0.0       400     0.5        8859   \n",
      "5498          36.4            0          0.0     14027    19.0      191344   \n",
      "5499          48.2            0          0.0     34875    47.1      290780   \n",
      "5500         100.0            0          0.0     74003   100.0      571786   \n",
      "\n",
      "0    PAYANN_PCT  \n",
      "1           2.2  \n",
      "2          25.9  \n",
      "3          61.4  \n",
      "4         100.0  \n",
      "5           6.8  \n",
      "...         ...  \n",
      "5496        0.0  \n",
      "5497        1.5  \n",
      "5498       33.5  \n",
      "5499       50.9  \n",
      "5500      100.0  \n",
      "\n",
      "[5500 rows x 16 columns]\n"
     ]
    }
   ],
   "source": [
    "# do some cleaning\n",
    "tech_df.drop(['GEO_ID',\"NAME\",\"YEAR\",\"NAICS2017\",\"SEX\",\"ETH_GROUP\"],inplace=True,axis=1)\n",
    "tech_df.drop([\"RACE_GROUP\",\"VET_GROUP\",\"NSFSZFI\",\"FIRMPDEMP_F\",\"FIRMPDEMP_PCT_F\"],inplace=True,axis=1)\n",
    "tech_df.drop([\"RCPPDEMP_F\",\"RCPPDEMP_PCT_F\",\"EMP_F\",\"EMP_PCT_F\",\"PAYANN_F\"],inplace=True,axis=1)\n",
    "tech_df.drop([\"PAYANN_PCT_F\",\"FIRMPDEMP_S\",\"FIRMPDEMP_S_F\",\"FIRMPDEMP_PCT_S\"],inplace=True,axis=1)\n",
    "tech_df = tech_df.drop(tech_df.columns[16:],axis = 1)\n",
    "print(tech_df)\n"
   ]
  },
  {
   "cell_type": "code",
   "execution_count": 24,
   "metadata": {},
   "outputs": [
    {
     "data": {
      "text/plain": [
       "(5500, 16)"
      ]
     },
     "execution_count": 24,
     "metadata": {},
     "output_type": "execute_result"
    }
   ],
   "source": [
    "tech_df.shape"
   ]
  },
  {
   "cell_type": "code",
   "execution_count": 10,
   "metadata": {},
   "outputs": [
    {
     "name": "stdout",
     "output_type": "stream",
     "text": [
      "<class 'pandas.core.frame.DataFrame'>\n",
      "Int64Index: 5500 entries, 1 to 5500\n",
      "Data columns (total 16 columns):\n",
      " #   Column            Non-Null Count  Dtype \n",
      "---  ------            --------------  ----- \n",
      " 0   NAICS2017_LABEL   5500 non-null   object\n",
      " 1   SEX_LABEL         5500 non-null   object\n",
      " 2   ETH_GROUP_LABEL   5500 non-null   object\n",
      " 3   RACE_GROUP_LABEL  5500 non-null   object\n",
      " 4   VET_GROUP_LABEL   5500 non-null   object\n",
      " 5   NSFSZFI_LABEL     5500 non-null   object\n",
      " 6   FACTORS_P         5500 non-null   object\n",
      " 7   FACTORS_P_LABEL   5500 non-null   object\n",
      " 8   FIRMPDEMP         5500 non-null   object\n",
      " 9   FIRMPDEMP_PCT     5500 non-null   object\n",
      " 10  RCPPDEMP          5500 non-null   object\n",
      " 11  RCPPDEMP_PCT      5500 non-null   object\n",
      " 12  EMP               5500 non-null   object\n",
      " 13  EMP_PCT           5500 non-null   object\n",
      " 14  PAYANN            5500 non-null   object\n",
      " 15  PAYANN_PCT        5500 non-null   object\n",
      "dtypes: object(16)\n",
      "memory usage: 386.7+ KB\n"
     ]
    }
   ],
   "source": [
    "tech_df.info(verbose=True)"
   ]
  }
 ],
 "metadata": {
  "interpreter": {
   "hash": "23307798908c8a9e946608b3e939b3bcebc8e8621f7a89d72990d9b805e549ed"
  },
  "kernelspec": {
   "display_name": "Python 3.7.4 32-bit",
   "language": "python",
   "name": "python3"
  },
  "language_info": {
   "codemirror_mode": {
    "name": "ipython",
    "version": 3
   },
   "file_extension": ".py",
   "mimetype": "text/x-python",
   "name": "python",
   "nbconvert_exporter": "python",
   "pygments_lexer": "ipython3",
   "version": "3.7.4"
  },
  "orig_nbformat": 4
 },
 "nbformat": 4,
 "nbformat_minor": 2
}
