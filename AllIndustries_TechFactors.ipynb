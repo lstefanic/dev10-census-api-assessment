{
 "cells": [
  {
   "cell_type": "code",
   "execution_count": 37,
   "metadata": {},
   "outputs": [
    {
     "name": "stdout",
     "output_type": "stream",
     "text": [
      "0               NAICS2017_LABEL SEX_LABEL ETH_GROUP_LABEL RACE_GROUP_LABEL  \\\n",
      "1         Total for all sectors     Total           Total            Total   \n",
      "2         Total for all sectors     Total           Total            Total   \n",
      "3         Total for all sectors     Total           Total            Total   \n",
      "4         Total for all sectors     Total           Total            Total   \n",
      "5         Total for all sectors     Total           Total            Total   \n",
      "...                         ...       ...             ...              ...   \n",
      "5496  Industries not classified     Total           Total            Total   \n",
      "5497  Industries not classified     Total           Total            Total   \n",
      "5498  Industries not classified     Total           Total            Total   \n",
      "5499  Industries not classified     Total           Total            Total   \n",
      "5500  Industries not classified     Total           Total            Total   \n",
      "\n",
      "0    VET_GROUP_LABEL NSFSZFI_LABEL FACTORS_P  \\\n",
      "1              Total     All firms  T2E36R08   \n",
      "2              Total     All firms  T2E36R09   \n",
      "3              Total     All firms  T2E36R10   \n",
      "4              Total     All firms  T2E36R99   \n",
      "5              Total     All firms  T3E36R01   \n",
      "...              ...           ...       ...   \n",
      "5496           Total     All firms  T5E36R07   \n",
      "5497           Total     All firms  T5E36R08   \n",
      "5498           Total     All firms  T5E36R09   \n",
      "5499           Total     All firms  T5E36R10   \n",
      "5500           Total     All firms  T5E36R99   \n",
      "\n",
      "0                                       FACTORS_P_LABEL FIRMPDEMP  \\\n",
      "1                 Cloud-Based: Lacked access to capital     44724   \n",
      "2     Cloud-Based: Technology not applicable to this...   1828050   \n",
      "3     Cloud-Based: No factors adversely affected the...   2484539   \n",
      "4                          Cloud-Based: Total Reporting   4739493   \n",
      "5     Specialized Software: Technology was too expen...    282423   \n",
      "...                                                 ...       ...   \n",
      "5496  Specialized Equipment: Concerns regarding safe...         0   \n",
      "5497    Specialized Equipment: Lacked access to capital       252   \n",
      "5498  Specialized Equipment: Technology not applicab...      5357   \n",
      "5499  Specialized Equipment: No factors adversely af...      7086   \n",
      "5500             Specialized Equipment: Total Reporting     14702   \n",
      "\n",
      "0    FIRMPDEMP_PCT     RCPPDEMP RCPPDEMP_PCT       EMP EMP_PCT      PAYANN  \\\n",
      "1              0.9    730209484          2.4   1469117     1.6   108923934   \n",
      "2             38.6   7901779199         26.5  28474985    30.3  1305851823   \n",
      "3             52.4  17955676080         60.2  54492977    58.0  3090558571   \n",
      "4            100.0  29847139873        100.0  93942693   100.0  5037549941   \n",
      "5              6.0   2147246512          7.2   6152082     6.6   340768731   \n",
      "...            ...          ...          ...       ...     ...         ...   \n",
      "5496           0.0            0          0.0         0     0.0           0   \n",
      "5497           1.7            0          0.0       400     0.5        8859   \n",
      "5498          36.4            0          0.0     14027    19.0      191344   \n",
      "5499          48.2            0          0.0     34875    47.1      290780   \n",
      "5500         100.0            0          0.0     74003   100.0      571786   \n",
      "\n",
      "0    PAYANN_PCT  \n",
      "1           2.2  \n",
      "2          25.9  \n",
      "3          61.4  \n",
      "4         100.0  \n",
      "5           6.8  \n",
      "...         ...  \n",
      "5496        0.0  \n",
      "5497        1.5  \n",
      "5498       33.5  \n",
      "5499       50.9  \n",
      "5500      100.0  \n",
      "\n",
      "[5500 rows x 16 columns]\n"
     ]
    }
   ],
   "source": [
    "import pandas as pd\n",
    "import GeneralETL_PyFile as ETL\n",
    "import numpy as np\n",
    "import matplotlib.pyplot as plt\n",
    "%matplotlib inline\n",
    "\n",
    "tech_df = ETL.tech_df\n",
    "print(tech_df)"
   ]
  },
  {
   "cell_type": "markdown",
   "metadata": {},
   "source": [
    "Filter out all unique industries. Look at questions just based on the whole market.\n",
    "Also filter out all demographic groups, only looking at totals.\n",
    "Done using several filter statements in the same line, in parentheses and with & in between."
   ]
  },
  {
   "cell_type": "code",
   "execution_count": 38,
   "metadata": {},
   "outputs": [
    {
     "data": {
      "text/plain": [
       "(4400, 16)"
      ]
     },
     "execution_count": 38,
     "metadata": {},
     "output_type": "execute_result"
    }
   ],
   "source": [
    "tech_df = tech_df[tech_df['NAICS2017_LABEL'] == 'Total for all sectors']\n",
    "tech_df.shape\n"
   ]
  },
  {
   "cell_type": "code",
   "execution_count": 39,
   "metadata": {},
   "outputs": [
    {
     "name": "stdout",
     "output_type": "stream",
     "text": [
      "<class 'pandas.core.frame.DataFrame'>\n",
      "Int64Index: 55 entries, 1 to 55\n",
      "Data columns (total 16 columns):\n",
      " #   Column            Non-Null Count  Dtype \n",
      "---  ------            --------------  ----- \n",
      " 0   NAICS2017_LABEL   55 non-null     object\n",
      " 1   SEX_LABEL         55 non-null     object\n",
      " 2   ETH_GROUP_LABEL   55 non-null     object\n",
      " 3   RACE_GROUP_LABEL  55 non-null     object\n",
      " 4   VET_GROUP_LABEL   55 non-null     object\n",
      " 5   NSFSZFI_LABEL     55 non-null     object\n",
      " 6   FACTORS_P         55 non-null     object\n",
      " 7   FACTORS_P_LABEL   55 non-null     object\n",
      " 8   FIRMPDEMP         55 non-null     object\n",
      " 9   FIRMPDEMP_PCT     55 non-null     object\n",
      " 10  RCPPDEMP          55 non-null     object\n",
      " 11  RCPPDEMP_PCT      55 non-null     object\n",
      " 12  EMP               55 non-null     object\n",
      " 13  EMP_PCT           55 non-null     object\n",
      " 14  PAYANN            55 non-null     object\n",
      " 15  PAYANN_PCT        55 non-null     object\n",
      "dtypes: object(16)\n",
      "memory usage: 3.9+ KB\n"
     ]
    }
   ],
   "source": [
    "tech_df = tech_df[(tech_df['SEX_LABEL'] == 'Total') & (tech_df['ETH_GROUP_LABEL'] == 'Total') & (tech_df['RACE_GROUP_LABEL'] == 'Total') & (tech_df['VET_GROUP_LABEL'] == 'Total') & (tech_df['NSFSZFI_LABEL'] == 'All firms')]\n",
    "tech_df.shape\n",
    "tech_df.info(verbose=True)"
   ]
  },
  {
   "cell_type": "markdown",
   "metadata": {},
   "source": [
    "Now we want to break into separate dataframes for each technology, so we can plot the answers for each tech, possibly on same plot."
   ]
  },
  {
   "cell_type": "code",
   "execution_count": 40,
   "metadata": {},
   "outputs": [],
   "source": [
    "AI_df = tech_df[tech_df['FACTORS_P'].str.contains('T1')]\n",
    "CloudB_df = tech_df[tech_df['FACTORS_P'].str.contains('T2')]\n",
    "SpecSW_df = tech_df[tech_df['FACTORS_P'].str.contains('T3')]\n",
    "Robo_df = tech_df[tech_df['FACTORS_P'].str.contains('T4')]\n",
    "SpecEQ_df = tech_df[tech_df['FACTORS_P'].str.contains('T5')]"
   ]
  },
  {
   "cell_type": "markdown",
   "metadata": {},
   "source": [
    "Cast all numeric columns to floats"
   ]
  },
  {
   "cell_type": "code",
   "execution_count": 41,
   "metadata": {},
   "outputs": [
    {
     "name": "stdout",
     "output_type": "stream",
     "text": [
      "Index(['NAICS2017_LABEL', 'SEX_LABEL', 'ETH_GROUP_LABEL', 'RACE_GROUP_LABEL',\n",
      "       'VET_GROUP_LABEL', 'NSFSZFI_LABEL', 'FACTORS_P', 'FACTORS_P_LABEL',\n",
      "       'FIRMPDEMP', 'FIRMPDEMP_PCT', 'RCPPDEMP', 'RCPPDEMP_PCT', 'EMP',\n",
      "       'EMP_PCT', 'PAYANN', 'PAYANN_PCT'],\n",
      "      dtype='object', name=0)\n",
      "Index(['FIRMPDEMP', 'FIRMPDEMP_PCT', 'RCPPDEMP', 'RCPPDEMP_PCT', 'EMP',\n",
      "       'EMP_PCT', 'PAYANN', 'PAYANN_PCT'],\n",
      "      dtype='object', name=0)\n"
     ]
    },
    {
     "name": "stderr",
     "output_type": "stream",
     "text": [
      "C:\\Users\\cbevr\\AppData\\Local\\Programs\\Python\\Python37-32\\lib\\site-packages\\ipykernel_launcher.py:7: SettingWithCopyWarning: \n",
      "A value is trying to be set on a copy of a slice from a DataFrame.\n",
      "Try using .loc[row_indexer,col_indexer] = value instead\n",
      "\n",
      "See the caveats in the documentation: https://pandas.pydata.org/pandas-docs/stable/user_guide/indexing.html#returning-a-view-versus-a-copy\n",
      "  import sys\n",
      "C:\\Users\\cbevr\\AppData\\Local\\Programs\\Python\\Python37-32\\lib\\site-packages\\ipykernel_launcher.py:8: SettingWithCopyWarning: \n",
      "A value is trying to be set on a copy of a slice from a DataFrame.\n",
      "Try using .loc[row_indexer,col_indexer] = value instead\n",
      "\n",
      "See the caveats in the documentation: https://pandas.pydata.org/pandas-docs/stable/user_guide/indexing.html#returning-a-view-versus-a-copy\n",
      "  \n",
      "C:\\Users\\cbevr\\AppData\\Local\\Programs\\Python\\Python37-32\\lib\\site-packages\\ipykernel_launcher.py:9: SettingWithCopyWarning: \n",
      "A value is trying to be set on a copy of a slice from a DataFrame.\n",
      "Try using .loc[row_indexer,col_indexer] = value instead\n",
      "\n",
      "See the caveats in the documentation: https://pandas.pydata.org/pandas-docs/stable/user_guide/indexing.html#returning-a-view-versus-a-copy\n",
      "  if __name__ == '__main__':\n",
      "C:\\Users\\cbevr\\AppData\\Local\\Programs\\Python\\Python37-32\\lib\\site-packages\\ipykernel_launcher.py:10: SettingWithCopyWarning: \n",
      "A value is trying to be set on a copy of a slice from a DataFrame.\n",
      "Try using .loc[row_indexer,col_indexer] = value instead\n",
      "\n",
      "See the caveats in the documentation: https://pandas.pydata.org/pandas-docs/stable/user_guide/indexing.html#returning-a-view-versus-a-copy\n",
      "  # Remove the CWD from sys.path while we load stuff.\n",
      "C:\\Users\\cbevr\\AppData\\Local\\Programs\\Python\\Python37-32\\lib\\site-packages\\ipykernel_launcher.py:11: SettingWithCopyWarning: \n",
      "A value is trying to be set on a copy of a slice from a DataFrame.\n",
      "Try using .loc[row_indexer,col_indexer] = value instead\n",
      "\n",
      "See the caveats in the documentation: https://pandas.pydata.org/pandas-docs/stable/user_guide/indexing.html#returning-a-view-versus-a-copy\n",
      "  # This is added back by InteractiveShellApp.init_path()\n"
     ]
    }
   ],
   "source": [
    "print(AI_df.columns)\n",
    "# get a list of the column names that are purely numeric so we can cast all to floats\n",
    "numeric_colnames = AI_df.columns[8:]\n",
    "print(numeric_colnames)\n",
    "\n",
    "for colname in numeric_colnames:\n",
    "    AI_df[colname] = AI_df[colname].astype(float)\n",
    "    CloudB_df[colname] = CloudB_df[colname].astype(float)\n",
    "    SpecSW_df[colname] = SpecSW_df[colname].astype(float)\n",
    "    Robo_df[colname] = Robo_df[colname].astype(float)\n",
    "    SpecEQ_df[colname] = SpecEQ_df[colname].astype(float)\n",
    "\n"
   ]
  },
  {
   "cell_type": "markdown",
   "metadata": {},
   "source": [
    "Now that we are split up nicely, we try plotting these on the same bar chart"
   ]
  },
  {
   "cell_type": "code",
   "execution_count": 50,
   "metadata": {},
   "outputs": [
    {
     "name": "stdout",
     "output_type": "stream",
     "text": [
      "[ 0  1  2  3  4  5  6  7  8  9 10]\n",
      "[-2 -1  0  1  2  3  4  5  6  7  8]\n"
     ]
    },
    {
     "data": {
      "image/png": "[encoded data removed]",
      "text/plain": [
       "<Figure size 432x288 with 1 Axes>"
      ]
     },
     "metadata": {
      "needs_background": "light"
     },
     "output_type": "display_data"
    }
   ],
   "source": [
    "# list of all columns we want to graph, also a list of tech names to call for legend\n",
    "tech_names = ['AI','Cloud Based','Special Software','Robotics','Special Equipment']\n",
    "firmpdemp_pctVALS = [AI_df['FIRMPDEMP_PCT'],CloudB_df['FIRMPDEMP_PCT'],SpecSW_df['FIRMPDEMP_PCT'],Robo_df['FIRMPDEMP_PCT'],SpecEQ_df['FIRMPDEMP_PCT']]\n",
    "\n",
    "x = np.arange(len(AI_df['FACTORS_P_LABEL'].unique()))\n",
    "width = 0.35\n",
    "\n",
    "# intialize subplots to add clustered bar\n",
    "fig,ax = plt.subplots()\n",
    "#for count,tech in enumerate(firmpdemp_pctVALS):\n",
    "AIplot = ax.bar(x - width/2,tech[0],width,label=tech_names[count])\n",
    "CloudBplot = ax.bar(x - width/2,tech[0],width,label=tech_names[count])\n",
    "\n",
    "fig.tight_layout()\n",
    "plt.show()"
   ]
  }
 ],
 "metadata": {
  "interpreter": {
   "hash": "23307798908c8a9e946608b3e939b3bcebc8e8621f7a89d72990d9b805e549ed"
  },
  "kernelspec": {
   "display_name": "Python 3.7.4 32-bit",
   "language": "python",
   "name": "python3"
  },
  "language_info": {
   "codemirror_mode": {
    "name": "ipython",
    "version": 3
   },
   "file_extension": ".py",
   "mimetype": "text/x-python",
   "name": "python",
   "nbconvert_exporter": "python",
   "pygments_lexer": "ipython3",
   "version": "3.7.4"
  },
  "orig_nbformat": 4
 },
 "nbformat": 4,
 "nbformat_minor": 2
}
